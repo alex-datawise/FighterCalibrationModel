{
 "cells": [
  {
   "cell_type": "markdown",
   "id": "c37f4610",
   "metadata": {
    "editable": false
   },
   "source": [
    "# Fighter Calibration Model"
   ]
  },
  {
   "cell_type": "markdown",
   "id": "4e64b25b",
   "metadata": {
    "editable": false
   },
   "source": [
    "## Configure your Fighters here: "
   ]
  },
  {
   "cell_type": "code",
   "execution_count": 77,
   "id": "4b2fd355",
   "metadata": {},
   "outputs": [],
   "source": [
    "# Define Fighter 1\n",
    "fighter1_name = \"Fighter #1\"\n",
    "fighter1_attack_range = [1,60]\n",
    "fighter1_defense_range = [1,20]\n",
    "fighter1_stamina_range = [1,45]\n",
    "fighter1_speed_range = [1,25]\n",
    "\n",
    "# Define Fighter 2\n",
    "fighter2_name = \"Fighter #2\"\n",
    "fighter2_attack_range = [1,20]\n",
    "fighter2_defense_range = [1,60]\n",
    "fighter2_stamina_range = [1,25]\n",
    "fighter2_speed_range = [1,45]\n",
    "\n",
    "number_of_fights = 1000"
   ]
  },
  {
   "cell_type": "markdown",
   "id": "ca4e57ca",
   "metadata": {},
   "source": [
    "## Execute Fight(s)"
   ]
  },
  {
   "cell_type": "code",
   "execution_count": 78,
   "id": "2f7ff790",
   "metadata": {
    "editable": false
   },
   "outputs": [],
   "source": [
    "from Objects.Fighter import Fighter\n",
    "from Objects.Fight import Fight"
   ]
  },
  {
   "cell_type": "code",
   "execution_count": 79,
   "id": "f142eeca",
   "metadata": {
    "editable": false
   },
   "outputs": [],
   "source": [
    "for number in range(number_of_fights):\n",
    "    f1 = Fighter(fighter1_name, fighter1_attack_range, fighter1_defense_range, fighter1_stamina_range, fighter1_speed_range)\n",
    "    f2 = Fighter(fighter2_name, fighter2_attack_range, fighter2_defense_range, fighter2_stamina_range, fighter2_speed_range)\n",
    "    \n",
    "    f = Fight(number+1, f1, f2)"
   ]
  },
  {
   "cell_type": "markdown",
   "id": "9b94e5fe",
   "metadata": {},
   "source": [
    "## Process Data"
   ]
  },
  {
   "cell_type": "markdown",
   "id": "4ea68ad3",
   "metadata": {},
   "source": [
    "### Pick up and display sample of statistics file"
   ]
  },
  {
   "cell_type": "code",
   "execution_count": 80,
   "id": "4ad4a060",
   "metadata": {},
   "outputs": [
    {
     "data": {
      "text/html": [
       "<div>\n",
       "<style scoped>\n",
       "    .dataframe tbody tr th:only-of-type {\n",
       "        vertical-align: middle;\n",
       "    }\n",
       "\n",
       "    .dataframe tbody tr th {\n",
       "        vertical-align: top;\n",
       "    }\n",
       "\n",
       "    .dataframe thead th {\n",
       "        text-align: right;\n",
       "    }\n",
       "</style>\n",
       "<table border=\"1\" class=\"dataframe\">\n",
       "  <thead>\n",
       "    <tr style=\"text-align: right;\">\n",
       "      <th></th>\n",
       "      <th>fight_number</th>\n",
       "      <th>fight_round</th>\n",
       "      <th>fighter1_name</th>\n",
       "      <th>fighter1_strategy</th>\n",
       "      <th>fighter1_strategy_level</th>\n",
       "      <th>fighter1_characteristic_level</th>\n",
       "      <th>fighter1_health_in</th>\n",
       "      <th>fighter1_health_out</th>\n",
       "      <th>fighter1_score</th>\n",
       "      <th>fighter1_win</th>\n",
       "      <th>fighter2_name</th>\n",
       "      <th>fighter2_strategy</th>\n",
       "      <th>fighter2_strategy_level</th>\n",
       "      <th>fighter2_characteristic_level</th>\n",
       "      <th>fighter2_health_in</th>\n",
       "      <th>fighter2_health_out</th>\n",
       "      <th>fighter2_score</th>\n",
       "      <th>fighter2_win</th>\n",
       "    </tr>\n",
       "  </thead>\n",
       "  <tbody>\n",
       "    <tr>\n",
       "      <th>0</th>\n",
       "      <td>1</td>\n",
       "      <td>1</td>\n",
       "      <td>Fighter #1</td>\n",
       "      <td>attack</td>\n",
       "      <td>51</td>\n",
       "      <td>15</td>\n",
       "      <td>50</td>\n",
       "      <td>50</td>\n",
       "      <td>29.3250</td>\n",
       "      <td>True</td>\n",
       "      <td>Fighter #2</td>\n",
       "      <td>defense</td>\n",
       "      <td>46</td>\n",
       "      <td>6</td>\n",
       "      <td>50</td>\n",
       "      <td>45</td>\n",
       "      <td>24.380</td>\n",
       "      <td>False</td>\n",
       "    </tr>\n",
       "    <tr>\n",
       "      <th>1</th>\n",
       "      <td>1</td>\n",
       "      <td>2</td>\n",
       "      <td>Fighter #1</td>\n",
       "      <td>attack</td>\n",
       "      <td>1</td>\n",
       "      <td>23</td>\n",
       "      <td>50</td>\n",
       "      <td>22</td>\n",
       "      <td>0.6150</td>\n",
       "      <td>False</td>\n",
       "      <td>Fighter #2</td>\n",
       "      <td>defense</td>\n",
       "      <td>51</td>\n",
       "      <td>12</td>\n",
       "      <td>45</td>\n",
       "      <td>45</td>\n",
       "      <td>28.560</td>\n",
       "      <td>True</td>\n",
       "    </tr>\n",
       "    <tr>\n",
       "      <th>2</th>\n",
       "      <td>1</td>\n",
       "      <td>3</td>\n",
       "      <td>Fighter #1</td>\n",
       "      <td>attack</td>\n",
       "      <td>33</td>\n",
       "      <td>17</td>\n",
       "      <td>22</td>\n",
       "      <td>22</td>\n",
       "      <td>28.9575</td>\n",
       "      <td>True</td>\n",
       "      <td>Fighter #2</td>\n",
       "      <td>attack</td>\n",
       "      <td>6</td>\n",
       "      <td>19</td>\n",
       "      <td>45</td>\n",
       "      <td>21</td>\n",
       "      <td>5.355</td>\n",
       "      <td>False</td>\n",
       "    </tr>\n",
       "    <tr>\n",
       "      <th>3</th>\n",
       "      <td>1</td>\n",
       "      <td>4</td>\n",
       "      <td>Fighter #1</td>\n",
       "      <td>defense</td>\n",
       "      <td>16</td>\n",
       "      <td>7</td>\n",
       "      <td>22</td>\n",
       "      <td>18</td>\n",
       "      <td>8.5600</td>\n",
       "      <td>False</td>\n",
       "      <td>Fighter #2</td>\n",
       "      <td>attack</td>\n",
       "      <td>19</td>\n",
       "      <td>32</td>\n",
       "      <td>21</td>\n",
       "      <td>21</td>\n",
       "      <td>12.540</td>\n",
       "      <td>True</td>\n",
       "    </tr>\n",
       "    <tr>\n",
       "      <th>4</th>\n",
       "      <td>1</td>\n",
       "      <td>5</td>\n",
       "      <td>Fighter #1</td>\n",
       "      <td>attack</td>\n",
       "      <td>7</td>\n",
       "      <td>4</td>\n",
       "      <td>18</td>\n",
       "      <td>3</td>\n",
       "      <td>3.6400</td>\n",
       "      <td>False</td>\n",
       "      <td>Fighter #2</td>\n",
       "      <td>defense</td>\n",
       "      <td>33</td>\n",
       "      <td>15</td>\n",
       "      <td>21</td>\n",
       "      <td>21</td>\n",
       "      <td>18.975</td>\n",
       "      <td>True</td>\n",
       "    </tr>\n",
       "  </tbody>\n",
       "</table>\n",
       "</div>"
      ],
      "text/plain": [
       "   fight_number  fight_round fighter1_name fighter1_strategy  \\\n",
       "0             1            1    Fighter #1            attack   \n",
       "1             1            2    Fighter #1            attack   \n",
       "2             1            3    Fighter #1            attack   \n",
       "3             1            4    Fighter #1           defense   \n",
       "4             1            5    Fighter #1            attack   \n",
       "\n",
       "   fighter1_strategy_level  fighter1_characteristic_level  fighter1_health_in  \\\n",
       "0                       51                             15                  50   \n",
       "1                        1                             23                  50   \n",
       "2                       33                             17                  22   \n",
       "3                       16                              7                  22   \n",
       "4                        7                              4                  18   \n",
       "\n",
       "   fighter1_health_out  fighter1_score  fighter1_win fighter2_name  \\\n",
       "0                   50         29.3250          True    Fighter #2   \n",
       "1                   22          0.6150         False    Fighter #2   \n",
       "2                   22         28.9575          True    Fighter #2   \n",
       "3                   18          8.5600         False    Fighter #2   \n",
       "4                    3          3.6400         False    Fighter #2   \n",
       "\n",
       "  fighter2_strategy  fighter2_strategy_level  fighter2_characteristic_level  \\\n",
       "0           defense                       46                              6   \n",
       "1           defense                       51                             12   \n",
       "2            attack                        6                             19   \n",
       "3            attack                       19                             32   \n",
       "4           defense                       33                             15   \n",
       "\n",
       "   fighter2_health_in  fighter2_health_out  fighter2_score  fighter2_win  \n",
       "0                  50                   45          24.380         False  \n",
       "1                  45                   45          28.560          True  \n",
       "2                  45                   21           5.355         False  \n",
       "3                  21                   21          12.540          True  \n",
       "4                  21                   21          18.975          True  "
      ]
     },
     "execution_count": 80,
     "metadata": {},
     "output_type": "execute_result"
    }
   ],
   "source": [
    "import pandas as pd\n",
    "\n",
    "df = pd.read_csv('statistics.csv')\n",
    "df.head(5)"
   ]
  },
  {
   "cell_type": "markdown",
   "id": "1935dff3",
   "metadata": {},
   "source": [
    "### Summarize data and group"
   ]
  },
  {
   "cell_type": "code",
   "execution_count": 81,
   "id": "05fe965a",
   "metadata": {},
   "outputs": [],
   "source": [
    "df_fightround = df[['fight_number','fight_round']]\n",
    "df_grouped = df_fightround.groupby('fight_number')\n",
    "df_max = df_grouped.max().reset_index()"
   ]
  },
  {
   "cell_type": "markdown",
   "id": "d2da975b",
   "metadata": {},
   "source": [
    "## Generate Chart"
   ]
  },
  {
   "cell_type": "code",
   "execution_count": 82,
   "id": "a88340fb",
   "metadata": {},
   "outputs": [
    {
     "data": {
      "image/png": "[encoded data removed]",
      "text/plain": [
       "<Figure size 864x360 with 2 Axes>"
      ]
     },
     "metadata": {},
     "output_type": "display_data"
    }
   ],
   "source": [
    "import seaborn as sns\n",
    "import matplotlib.pyplot as plt\n",
    "import numpy as np\n",
    "\n",
    "f, (ax1, ax2) = plt.subplots(1, 2,figsize=(12,5))\n",
    "\n",
    "# define ax1 (plot)\n",
    "\n",
    "sns.set(style=\"darkgrid\", font_scale=1.2)\n",
    "\n",
    "chart = sns.histplot(\n",
    "                    data=df_max,\n",
    "                    x=\"fight_round\",\n",
    "                    ax=ax1, \n",
    "                    discrete=True\n",
    "                    )\n",
    "\n",
    "chart.set(\n",
    "            xticks=[1,2,3,4,5,6,7,8,9,10],\n",
    "            xlabel=\"Number of Rounds\",\n",
    "            ylabel=\"Count of Fights\",\n",
    "            title=\"Distribution of Rounds\",\n",
    "            xlim=(0,11)\n",
    "        )\n",
    "\n",
    "# define ax2 (table)\n",
    "\n",
    "plt.rcParams[\"figure.autolayout\"] = True\n",
    "v = pd.DataFrame(df_max['fight_round'].value_counts()).sort_index()\n",
    "bbox = [0, 0, 1, 1]\n",
    "ax2.axis('off')\n",
    "table = ax2.table(cellText=v.values, rowLabels=v.index, bbox=bbox, colLabels=[\"Count\"])\n",
    "\n",
    "plt.show()"
   ]
  },
  {
   "cell_type": "markdown",
   "id": "cc97e8e9",
   "metadata": {},
   "source": [
    "## Move Statistics to Archive"
   ]
  },
  {
   "cell_type": "code",
   "execution_count": 83,
   "id": "a7e6e754",
   "metadata": {},
   "outputs": [],
   "source": [
    "import os\n",
    "\n",
    "counter = 0\n",
    "\n",
    "# find the latest file number in archives, increase by 1\n",
    "# if no file is found yet, start counter at 1\n",
    "filelist = os.listdir(\"./Archives\")\n",
    "if  filelist == []:\n",
    "    counter = 1\n",
    "else:\n",
    "    filelist.sort()\n",
    "    counter = int(os.path.basename(filelist[-1])[0]) + 1\n",
    "\n",
    "# save chart and table as PDF\n",
    "f.savefig(\"archives/%i.pdf\" % counter)\n",
    "\n",
    "# move statistics file to archive\n",
    "os.rename(\"statistics.csv\", \"archives/%i.csv\" % counter)"
   ]
  }
 ],
 "metadata": {
  "kernelspec": {
   "display_name": "Python 3",
   "language": "python",
   "name": "python3"
  },
  "language_info": {
   "codemirror_mode": {
    "name": "ipython",
    "version": 3
   },
   "file_extension": ".py",
   "mimetype": "text/x-python",
   "name": "python",
   "nbconvert_exporter": "python",
   "pygments_lexer": "ipython3",
   "version": "3.7.10"
  }
 },
 "nbformat": 4,
 "nbformat_minor": 5
}
