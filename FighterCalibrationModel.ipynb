{
 "cells": [
  {
   "cell_type": "markdown",
   "id": "c37f4610",
   "metadata": {
    "editable": false
   },
   "source": [
    "# Fighter Calibration Model"
   ]
  },
  {
   "cell_type": "markdown",
   "id": "4e64b25b",
   "metadata": {
    "editable": false
   },
   "source": [
    "## Configure your Fighters here: "
   ]
  },
  {
   "cell_type": "code",
   "execution_count": null,
   "id": "4b2fd355",
   "metadata": {},
   "outputs": [],
   "source": [
    "# Define Fighter 1\n",
    "fighter1_name = \"Fighter #1\"\n",
    "fighter1_attack_range = [1,60]\n",
    "fighter1_speed_range = [1,23]\n",
    "\n",
    "fighter1_defense_range = [1,25]\n",
    "fighter1_stamina_range = [1,40]\n",
    "\n",
    "\n",
    "# Define Fighter 2\n",
    "fighter2_name = \"Fighter #2\"\n",
    "fighter2_attack_range = [1,75]\n",
    "fighter2_speed_range = [1,27]\n",
    "\n",
    "fighter2_defense_range = [1,57]\n",
    "fighter2_stamina_range = [1,23]\n",
    "\n",
    "\n",
    "number_of_fights = 1000\n",
    "initial_health = 150"
   ]
  },
  {
   "cell_type": "markdown",
   "id": "ca4e57ca",
   "metadata": {
    "editable": false
   },
   "source": [
    "## Execute Fight(s)"
   ]
  },
  {
   "cell_type": "code",
   "execution_count": null,
   "id": "2f7ff790",
   "metadata": {
    "editable": false
   },
   "outputs": [],
   "source": [
    "from Objects.Fighter import Fighter\n",
    "from Objects.Fight import Fight"
   ]
  },
  {
   "cell_type": "code",
   "execution_count": null,
   "id": "f142eeca",
   "metadata": {
    "editable": false
   },
   "outputs": [],
   "source": [
    "for number in range(number_of_fights):\n",
    "    f1 = Fighter(fighter1_name, fighter1_attack_range, fighter1_defense_range, fighter1_stamina_range, fighter1_speed_range, initial_health)\n",
    "    f2 = Fighter(fighter2_name, fighter2_attack_range, fighter2_defense_range, fighter2_stamina_range, fighter2_speed_range, initial_health)\n",
    "    \n",
    "    f = Fight(number+1, f1, f2)"
   ]
  },
  {
   "cell_type": "markdown",
   "id": "9b94e5fe",
   "metadata": {
    "editable": false
   },
   "source": [
    "## Process Data"
   ]
  },
  {
   "cell_type": "markdown",
   "id": "4ea68ad3",
   "metadata": {
    "editable": false
   },
   "source": [
    "### Pick up and display sample of statistics file"
   ]
  },
  {
   "cell_type": "code",
   "execution_count": null,
   "id": "4ad4a060",
   "metadata": {
    "editable": false
   },
   "outputs": [],
   "source": [
    "import pandas as pd\n",
    "\n",
    "df = pd.read_csv('statistics.csv')\n",
    "df.head(5)"
   ]
  },
  {
   "cell_type": "markdown",
   "id": "1935dff3",
   "metadata": {
    "editable": false
   },
   "source": [
    "### Summarize data and group"
   ]
  },
  {
   "cell_type": "code",
   "execution_count": null,
   "id": "05fe965a",
   "metadata": {
    "editable": false
   },
   "outputs": [],
   "source": [
    "# distribution of rounds\n",
    "df_fightround = df[['fight_number','fight_round']].groupby('fight_number').max().reset_index()\n",
    "\n",
    "# balance per round\n",
    "f1_winner_balance_round = df[df.fighter1_win == True].shape[0]/len(df)\n",
    "f2_winner_balance_round = df[df.fighter2_win == True].shape[0]/len(df)\n",
    "\n",
    "# balance per fight\n",
    "df_group = df.groupby(['fight_number'], sort=False)[['fight_round', 'fighter1_health_out', 'fighter2_health_out']].agg({'fighter1_health_out': ['min'], 'fighter2_health_out': ['min']})\n",
    "df_group['winner'] = 2\n",
    "df_group.loc[df_group['fighter1_health_out']['min'] > df_group['fighter2_health_out']['min'], 'winner'] = 1\n",
    "\n",
    "f1_winner_balance_fight = df_group[df_group.winner == 1].shape[0]/len(df_group)\n",
    "f2_winner_balance_fight = df_group[df_group.winner == 2].shape[0]/len(df_group)\n",
    "\n",
    "# fighter profile chart\n",
    "profile1 = []"
   ]
  },
  {
   "cell_type": "markdown",
   "id": "d2da975b",
   "metadata": {
    "editable": false
   },
   "source": [
    "## Generate Chart"
   ]
  },
  {
   "cell_type": "code",
   "execution_count": null,
   "id": "01358529",
   "metadata": {
    "editable": false
   },
   "outputs": [],
   "source": [
    "# import seaborn as sns\n",
    "import matplotlib.pyplot as plt\n",
    "from matplotlib.gridspec import GridSpec\n",
    "%matplotlib inline\n",
    "import numpy as np\n",
    "from datetime import datetime\n",
    "from math import pi\n",
    "\n",
    "fig = plt.figure(figsize=(15,20))\n",
    "\n",
    "# Configure a 4x2 grid\n",
    "# +-------+\n",
    "# |   1   |\n",
    "# +---+---+\n",
    "# | 2 | 3 |\n",
    "# +---+---+\n",
    "# | 4 | 5 |\n",
    "# +---+---+\n",
    "# |   6   |\n",
    "# +-------+\n",
    "\n",
    "gs = GridSpec(4, 2, figure=fig)\n",
    "\n",
    "ax1 = fig.add_subplot(gs[0, :])\n",
    "ax2 = fig.add_subplot(gs[1, 0])\n",
    "ax3 = fig.add_subplot(gs[1, -1])\n",
    "ax4 = fig.add_subplot(gs[2, 0])\n",
    "ax5 = fig.add_subplot(gs[2, -1])\n",
    "ax6 = fig.add_subplot(gs[-1, :])\n",
    "\n",
    "# Axes 1\n",
    "# Remove grid\n",
    "ax1.axis('off')\n",
    "# Set title\n",
    "title = fig.text(0.5, 0.965, 'Fighter Calibration Model\\n|Simulation of %i fights|' % number_of_fights,\n",
    "                 horizontalalignment='center', color='black', weight='bold', fontsize='36')\n",
    "\n",
    "# Display Fighter specs\n",
    "#ax1.text(0.1, 0.5, 'Begin text', horizontalalignment='center', verticalalignment='center', transform=ax1.transAxes)\n",
    "f1_text = ax1.text(0.5, 0.7, f1.__str__(), horizontalalignment='center', fontsize='22')\n",
    "vs_text = ax1.text(0.5, 0.6, 'vs.', horizontalalignment='center', fontsize='22')\n",
    "f2_text = ax1.text(0.5, 0.5, f2.__str__(), horizontalalignment='center', fontsize='22')\n",
    "dt_text = ax1.text(1, 0.3, 'run on %s' % (datetime.now().strftime(\"%B %d, %Y at %H:%M\")), horizontalalignment='right', fontsize='12')\n",
    "\n",
    "# Axes 2 - distribution \n",
    "sns.set(style=\"darkgrid\", font_scale=1.2)\n",
    "\n",
    "chart = sns.histplot(data=df_max,\n",
    "                     x=\"fight_round\",\n",
    "                     ax=ax2, \n",
    "                     discrete=True)\n",
    "\n",
    "chart_ticks = chart.set(xticks=[1,2,3,4,5,6,7,8,9,10],\n",
    "                        xlabel=\"Rounds (Distance)\",\n",
    "                        ylabel=\"Frequency\",\n",
    "                        title=\"Distance Distribution\",\n",
    "                        xlim=(0,11))\n",
    "\n",
    "# Axes 3\n",
    "\n",
    "v = pd.DataFrame(df_max['fight_round'].value_counts()).sort_index()\n",
    "ax3.axis('off')\n",
    "table = ax3.table(cellText = v.values, rowLabels = v.index, bbox=[0,0,1,1], colLabels = [\"Frequency\"])\n",
    "\n",
    "# Axes 4\n",
    "round_pie = ax4.pie([f1_winner_balance_round, f2_winner_balance_round],\n",
    "                    labels = ['Fighter 1', 'Fighter 2'], \n",
    "                    colors = ['#7e8cbe','#ff9999'], autopct='%.2f%%')\n",
    "\n",
    "round_title = ax4.set_title('Rounds won')\n",
    "\n",
    "# Axes 5\n",
    "fight_pie = ax5.pie([f1_winner_balance_fight, f2_winner_balance_fight],\n",
    "                    labels = ['Fighter 1', 'Fighter 2'], \n",
    "                    colors = ['#7e8cbe','#ff9999'], autopct='%.2f%%')\n",
    "\n",
    "fight_title = ax5.set_title('Fights won')\n",
    "\n",
    "# Axes 6\n",
    "profile_title = ax6.set_title('Fighter Profile')\n",
    "\n",
    "categories=['attack', 'speed', 'defense', 'stamina']\n",
    "N = len(categories)\n",
    "\n",
    "df_profile = pd.DataFrame({\n",
    "    'name': [f1.name, f2.name],\n",
    "    'attack':  [f1.attack.max, f2.attack.max],\n",
    "    'speed':  [f1.speed.max, f2.speed.max],\n",
    "    'defense': [f1.defense.max, f2.defense.max],\n",
    "    'stamina':  [f1.stamina.max, f2.stamina.max]})\n",
    "\n",
    "angles = [n / float(N) * 2 * pi for n in range(N)]\n",
    "angles += angles[:1]\n",
    "\n",
    "ax6 = plt.subplot(427, polar=True)\n",
    "\n",
    "# position first axis at the top\n",
    "ax6.set_theta_offset(pi / 2)\n",
    "ax6.set_theta_direction(-1)\n",
    "\n",
    "# Draw one axe per variable + add labels labels yet\n",
    "plt.xticks(angles[:-1], categories, color='grey', size=20)\n",
    "\n",
    "ax6.set_rlabel_position(0)\n",
    "plt.yticks(np.arange(10,110,10), np.arange(10,110,10), color=\"grey\", size=7)\n",
    "plt.ylim(0,100)\n",
    "\n",
    "# Fighter 1\n",
    "values=df_profile.loc[0].drop('name').values.flatten().tolist()\n",
    "values += values[:1]\n",
    "f1_radar = ax6.plot(angles, values, linewidth=3, linestyle='solid', label=f1.name)\n",
    "ax6.fill(angles, values, 'b', alpha=0.1)\n",
    "\n",
    "# Fighter 2\n",
    "values=df_profile.loc[1].drop('name').values.flatten().tolist()\n",
    "values += values[:1]\n",
    "f2_radar = ax6.plot(angles, values, linewidth=3, linestyle='solid', label=f2.name)\n",
    "ax6.fill(angles, values, 'r', alpha=0.1)\n",
    "\n",
    "plt.show()"
   ]
  },
  {
   "cell_type": "markdown",
   "id": "cc97e8e9",
   "metadata": {
    "editable": false
   },
   "source": [
    "## Move Statistics to Archive"
   ]
  },
  {
   "cell_type": "code",
   "execution_count": null,
   "id": "a7e6e754",
   "metadata": {
    "editable": false
   },
   "outputs": [],
   "source": [
    "import os\n",
    "\n",
    "counter = 0\n",
    "\n",
    "# find the latest file number in archives, increase by 1\n",
    "# if no file is found yet, start counter at 1\n",
    "filelist = os.listdir(\"./Archives\")\n",
    "if  filelist == []:\n",
    "    counter = 1\n",
    "else:\n",
    "    filelist.sort()\n",
    "    counter = int(os.path.basename(filelist[-1])[0]) + 1\n",
    "\n",
    "# save chart and table as PDF\n",
    "fig.savefig(\"Archives/%i.pdf\" % counter)\n",
    "\n",
    "# move statistics file to archive\n",
    "os.rename(\"statistics.csv\", \"Archives/%i.csv\" % counter)"
   ]
  }
 ],
 "metadata": {
  "celltoolbar": "Edit Metadata",
  "kernelspec": {
   "display_name": "Python 3",
   "language": "python",
   "name": "python3"
  },
  "language_info": {
   "codemirror_mode": {
    "name": "ipython",
    "version": 3
   },
   "file_extension": ".py",
   "mimetype": "text/x-python",
   "name": "python",
   "nbconvert_exporter": "python",
   "pygments_lexer": "ipython3",
   "version": "3.7.10"
  }
 },
 "nbformat": 4,
 "nbformat_minor": 5
}
