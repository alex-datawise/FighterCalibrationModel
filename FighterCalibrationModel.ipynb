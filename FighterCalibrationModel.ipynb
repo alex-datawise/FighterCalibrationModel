{
 "cells": [
  {
   "cell_type": "markdown",
   "id": "c37f4610",
   "metadata": {
    "editable": false
   },
   "source": [
    "# Fighter Calibration Model"
   ]
  },
  {
   "cell_type": "markdown",
   "id": "4e64b25b",
   "metadata": {
    "editable": false
   },
   "source": [
    "## Configure your Fighters here: "
   ]
  },
  {
   "cell_type": "code",
   "execution_count": null,
   "id": "4b2fd355",
   "metadata": {},
   "outputs": [],
   "source": [
    "# Define Fighter 1\n",
    "fighter1_name = \"Fighter #1\"\n",
    "fighter1_attack_range = [1,60]\n",
    "fighter1_defense_range = [1,20]\n",
    "fighter1_stamina_range = [1,45]\n",
    "fighter1_speed_range = [1,25]\n",
    "\n",
    "# Define Fighter 2\n",
    "fighter2_name = \"Fighter #2\"\n",
    "fighter2_attack_range = [1,20]\n",
    "fighter2_defense_range = [1,60]\n",
    "fighter2_stamina_range = [1,25]\n",
    "fighter2_speed_range = [1,45]\n",
    "\n",
    "number_of_fights = 1000\n",
    "initial_health = 150"
   ]
  },
  {
   "cell_type": "markdown",
   "id": "ca4e57ca",
   "metadata": {
    "editable": false
   },
   "source": [
    "## Execute Fight(s)"
   ]
  },
  {
   "cell_type": "code",
   "execution_count": null,
   "id": "2f7ff790",
   "metadata": {
    "editable": false
   },
   "outputs": [],
   "source": [
    "from Objects.Fighter import Fighter\n",
    "from Objects.Fight import Fight"
   ]
  },
  {
   "cell_type": "code",
   "execution_count": null,
   "id": "f142eeca",
   "metadata": {
    "editable": false
   },
   "outputs": [],
   "source": [
    "for number in range(number_of_fights):\n",
    "    f1 = Fighter(fighter1_name, fighter1_attack_range, fighter1_defense_range, fighter1_stamina_range, fighter1_speed_range, initial_health)\n",
    "    f2 = Fighter(fighter2_name, fighter2_attack_range, fighter2_defense_range, fighter2_stamina_range, fighter2_speed_range, initial_health)\n",
    "    \n",
    "    f = Fight(number+1, f1, f2)"
   ]
  },
  {
   "cell_type": "markdown",
   "id": "9b94e5fe",
   "metadata": {
    "editable": false
   },
   "source": [
    "## Process Data"
   ]
  },
  {
   "cell_type": "markdown",
   "id": "4ea68ad3",
   "metadata": {
    "editable": false
   },
   "source": [
    "### Pick up and display sample of statistics file"
   ]
  },
  {
   "cell_type": "code",
   "execution_count": null,
   "id": "4ad4a060",
   "metadata": {
    "editable": false
   },
   "outputs": [],
   "source": [
    "import pandas as pd\n",
    "\n",
    "df = pd.read_csv('statistics.csv')\n",
    "df.head(5)"
   ]
  },
  {
   "cell_type": "markdown",
   "id": "1935dff3",
   "metadata": {
    "editable": false
   },
   "source": [
    "### Summarize data and group"
   ]
  },
  {
   "cell_type": "code",
   "execution_count": null,
   "id": "05fe965a",
   "metadata": {},
   "outputs": [],
   "source": [
    "df_fightround = df[['fight_number','fight_round']]\n",
    "df_grouped = df_fightround.groupby('fight_number')\n",
    "df_max = df_grouped.max().reset_index()\n",
    "\n",
    "f1_winner_balance = df[df.fighter1_win == True].shape[0]/len(df)\n",
    "f2_winner_balance = df[df.fighter2_win == True].shape[0]/len(df)"
   ]
  },
  {
   "cell_type": "markdown",
   "id": "d2da975b",
   "metadata": {
    "editable": false
   },
   "source": [
    "## Generate Chart"
   ]
  },
  {
   "cell_type": "code",
   "execution_count": null,
   "id": "a88340fb",
   "metadata": {},
   "outputs": [],
   "source": [
    "import seaborn as sns\n",
    "import matplotlib.pyplot as plt\n",
    "import numpy as np\n",
    "\n",
    "fig, axs = plt.subplots(2, 3, figsize=(13, 7))\n",
    "\n",
    "# define axs[0,0] to [0,2]  (fighter stats)\n",
    "fig.set_tight_layout(False)\n",
    "axs[0,0].axis('off')\n",
    "axs[0,1].axis('off')\n",
    "axs[0,2].axis('off')\n",
    "axs[0,0].text(0,0,f2.__str__(), va=\"center\")\n",
    "axs[0,0].text(0,0.1,f1.__str__(), va=\"center\")\n",
    "\n",
    "# define axs[1,0] (plot)\n",
    "\n",
    "sns.set(style=\"darkgrid\", font_scale=1.2)\n",
    "\n",
    "chart = sns.histplot(\n",
    "                    data=df_max,\n",
    "                    x=\"fight_round\",\n",
    "                    ax=axs[1,0], \n",
    "                    discrete=True\n",
    "                    )\n",
    "\n",
    "chart.set(\n",
    "            xticks=[1,2,3,4,5,6,7,8,9,10],\n",
    "            xlabel=\"Number of Rounds\",\n",
    "            ylabel=\"Count of Fights\",\n",
    "            title=\"Distribution of Rounds\",\n",
    "            xlim=(0,11)\n",
    "        )\n",
    "\n",
    "# define axs[1,1] (table)\n",
    "\n",
    "plt.rcParams[\"figure.autolayout\"] = True\n",
    "v = pd.DataFrame(df_max['fight_round'].value_counts()).sort_index()\n",
    "axs[1,1].axis('off')\n",
    "table = axs[1,1].table(cellText=v.values, rowLabels=v.index, bbox=[0,0,1,1], colLabels=[\"Count\"])\n",
    "\n",
    "# define axs[1,2] (winner/loser balance)\n",
    "\n",
    "axs[1,2].pie([f1_winner_balance, f2_winner_balance],\n",
    "           labels = ['Fighter 1', 'Fighter 2'], \n",
    "           colors = ['#7e8cbe','#ff9999'], autopct='%.2f%%')\n",
    "\n",
    "axs[1,2].set_title('Rounds won')\n",
    "plt.show()"
   ]
  },
  {
   "cell_type": "markdown",
   "id": "cc97e8e9",
   "metadata": {
    "editable": false
   },
   "source": [
    "## Move Statistics to Archive"
   ]
  },
  {
   "cell_type": "code",
   "execution_count": null,
   "id": "a7e6e754",
   "metadata": {
    "editable": false
   },
   "outputs": [],
   "source": [
    "import os\n",
    "\n",
    "counter = 0\n",
    "\n",
    "# find the latest file number in archives, increase by 1\n",
    "# if no file is found yet, start counter at 1\n",
    "filelist = os.listdir(\"./Archives\")\n",
    "if  filelist == []:\n",
    "    counter = 1\n",
    "else:\n",
    "    filelist.sort()\n",
    "    counter = int(os.path.basename(filelist[-1])[0]) + 1\n",
    "\n",
    "# save chart and table as PDF\n",
    "fig.savefig(\"Archives/%i.pdf\" % counter)\n",
    "\n",
    "# move statistics file to archive\n",
    "os.rename(\"statistics.csv\", \"Archives/%i.csv\" % counter)"
   ]
  }
 ],
 "metadata": {
  "celltoolbar": "Edit Metadata",
  "kernelspec": {
   "display_name": "Python 3",
   "language": "python",
   "name": "python3"
  },
  "language_info": {
   "codemirror_mode": {
    "name": "ipython",
    "version": 3
   },
   "file_extension": ".py",
   "mimetype": "text/x-python",
   "name": "python",
   "nbconvert_exporter": "python",
   "pygments_lexer": "ipython3",
   "version": "3.7.10"
  }
 },
 "nbformat": 4,
 "nbformat_minor": 5
}
